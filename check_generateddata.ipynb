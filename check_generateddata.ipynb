{
 "cells": [
  {
   "cell_type": "code",
   "execution_count": 5,
   "metadata": {},
   "outputs": [],
   "source": [
    "from PIL import Image\n",
    "import os\n",
    "import glob\n",
    "import numpy as np\n",
    "from sklearn import model_selection\n",
    "\n",
    "classes = ['monkey', 'boar', 'crow']\n",
    "num_classes = len(classes)\n",
    "image_size = 50\n",
    "\n",
    "# 画像の読み込み\n",
    "\n",
    "X = []\n",
    "Y = []\n",
    "for index, classlabel in enumerate(classes):\n",
    "    photos_dir = './' + classlabel\n",
    "    files = glob.glob(photos_dir + './*.jpg')\n",
    "    for i, file in enumerate(files):\n",
    "        if i >= 200:\n",
    "            break\n",
    "        image = Image.open(file)\n",
    "        image = image.convert(\"RGB\")\n",
    "        image = image.resize((image_size, image_size))\n",
    "        data = np.asarray(image)\n",
    "        X.append(data)\n",
    "        Y.append(index)\n",
    "\n",
    "X = np.array(X)\n",
    "Y = np.array(Y)\n"
   ]
  },
  {
   "cell_type": "code",
   "execution_count": 6,
   "metadata": {},
   "outputs": [
    {
     "data": {
      "text/plain": [
       "array([[[ 29,  35,  20],\n",
       "        [ 23,  29,  15],\n",
       "        [ 22,  28,  15],\n",
       "        ...,\n",
       "        [ 25,  31,  17],\n",
       "        [ 26,  33,  17],\n",
       "        [ 28,  35,  19]],\n",
       "\n",
       "       [[ 25,  32,  15],\n",
       "        [ 22,  29,  13],\n",
       "        [ 23,  29,  14],\n",
       "        ...,\n",
       "        [ 28,  35,  19],\n",
       "        [ 28,  35,  18],\n",
       "        [ 29,  36,  18]],\n",
       "\n",
       "       [[ 24,  31,  14],\n",
       "        [ 25,  32,  16],\n",
       "        [ 25,  32,  16],\n",
       "        ...,\n",
       "        [ 32,  39,  22],\n",
       "        [ 31,  38,  21],\n",
       "        [ 32,  39,  21]],\n",
       "\n",
       "       ...,\n",
       "\n",
       "       [[ 69,  53,  30],\n",
       "        [ 77,  59,  33],\n",
       "        [ 81,  61,  36],\n",
       "        ...,\n",
       "        [ 37,  44,  26],\n",
       "        [ 40,  47,  29],\n",
       "        [ 41,  48,  29]],\n",
       "\n",
       "       [[ 51,  37,  21],\n",
       "        [ 58,  42,  22],\n",
       "        [ 58,  44,  23],\n",
       "        ...,\n",
       "        [ 39,  46,  30],\n",
       "        [ 40,  47,  29],\n",
       "        [ 40,  47,  29]],\n",
       "\n",
       "       [[111,  99,  80],\n",
       "        [ 71,  63,  49],\n",
       "        [ 30,  26,  24],\n",
       "        ...,\n",
       "        [ 38,  45,  29],\n",
       "        [ 39,  46,  28],\n",
       "        [ 39,  46,  28]]], dtype=uint8)"
      ]
     },
     "execution_count": 6,
     "metadata": {},
     "output_type": "execute_result"
    }
   ],
   "source": [
    "X[0]"
   ]
  },
  {
   "cell_type": "code",
   "execution_count": 7,
   "metadata": {},
   "outputs": [
    {
     "data": {
      "text/plain": [
       "357"
      ]
     },
     "execution_count": 7,
     "metadata": {},
     "output_type": "execute_result"
    }
   ],
   "source": [
    "len(X)"
   ]
  },
  {
   "cell_type": "code",
   "execution_count": 8,
   "metadata": {},
   "outputs": [],
   "source": [
    "from PIL import Image\n",
    "import os\n",
    "import glob\n",
    "import numpy as np\n",
    "from sklearn import model_selection\n",
    "\n",
    "classes = ['monkey', 'boar', 'crow']\n",
    "num_classes = len(classes)\n",
    "image_size = 50\n",
    "\n",
    "# 画像の読み込み\n",
    "\n",
    "X = []\n",
    "Y = []\n",
    "for index, classlabel in enumerate(classes):\n",
    "    photos_dir = './' + classlabel\n",
    "    files = glob.glob(photos_dir + './*.jpg')\n",
    "    for i, file in enumerate(files):\n",
    "        if i >= 200:\n",
    "            break\n",
    "        image = Image.open(file)\n",
    "        image = image.convert(\"RGB\")\n",
    "        image = image.resize((image_size, image_size))\n",
    "        data = np.asarray(image)\n",
    "        X.append(data)\n",
    "        Y.append(index)\n",
    "\n",
    "X = np.array(X)\n",
    "Y = np.array(Y)\n",
    "\n",
    "X_train, X_test, y_train, y_test = model_selection.train_test_split(X, Y)\n",
    "xy = (X_train, X_test, y_train, y_test)\n",
    "np.save('./animal.npy', xy)\n"
   ]
  },
  {
   "cell_type": "code",
   "execution_count": 9,
   "metadata": {},
   "outputs": [
    {
     "data": {
      "text/plain": [
       "267"
      ]
     },
     "execution_count": 9,
     "metadata": {},
     "output_type": "execute_result"
    }
   ],
   "source": [
    "len(X_train)"
   ]
  },
  {
   "cell_type": "code",
   "execution_count": 10,
   "metadata": {},
   "outputs": [
    {
     "data": {
      "text/plain": [
       "90"
      ]
     },
     "execution_count": 10,
     "metadata": {},
     "output_type": "execute_result"
    }
   ],
   "source": [
    "len(X_test)"
   ]
  },
  {
   "cell_type": "code",
   "execution_count": 11,
   "metadata": {},
   "outputs": [
    {
     "data": {
      "text/plain": [
       "267"
      ]
     },
     "execution_count": 11,
     "metadata": {},
     "output_type": "execute_result"
    }
   ],
   "source": [
    "len(y_train)"
   ]
  },
  {
   "cell_type": "code",
   "execution_count": 12,
   "metadata": {},
   "outputs": [
    {
     "data": {
      "text/plain": [
       "90"
      ]
     },
     "execution_count": 12,
     "metadata": {},
     "output_type": "execute_result"
    }
   ],
   "source": [
    "len(y_test)"
   ]
  },
  {
   "cell_type": "code",
   "execution_count": 13,
   "metadata": {},
   "outputs": [
    {
     "data": {
      "text/plain": [
       "array([[[  6,   5,   7],\n",
       "        [  8,   8,   8],\n",
       "        [ 16,  18,  15],\n",
       "        ...,\n",
       "        [  4,   2,   5],\n",
       "        [  4,   2,   5],\n",
       "        [  5,   3,   6]],\n",
       "\n",
       "       [[  6,   5,   7],\n",
       "        [  7,   7,   7],\n",
       "        [ 17,  19,  16],\n",
       "        ...,\n",
       "        [  4,   2,   5],\n",
       "        [  4,   2,   5],\n",
       "        [  4,   2,   5]],\n",
       "\n",
       "       [[  6,   6,   6],\n",
       "        [  6,   6,   7],\n",
       "        [ 16,  17,  16],\n",
       "        ...,\n",
       "        [  4,   2,   5],\n",
       "        [  4,   2,   5],\n",
       "        [  4,   2,   5]],\n",
       "\n",
       "       ...,\n",
       "\n",
       "       [[ 66,  57,  52],\n",
       "        [ 75,  65,  57],\n",
       "        [ 81,  73,  63],\n",
       "        ...,\n",
       "        [109, 111, 104],\n",
       "        [112, 114, 107],\n",
       "        [108, 108, 101]],\n",
       "\n",
       "       [[ 69,  62,  54],\n",
       "        [ 72,  65,  57],\n",
       "        [ 72,  65,  58],\n",
       "        ...,\n",
       "        [126, 127, 119],\n",
       "        [122, 124, 116],\n",
       "        [119, 121, 115]],\n",
       "\n",
       "       [[ 62,  56,  49],\n",
       "        [ 61,  55,  49],\n",
       "        [ 63,  57,  51],\n",
       "        ...,\n",
       "        [125, 127, 121],\n",
       "        [124, 125, 121],\n",
       "        [120, 123, 116]]], dtype=uint8)"
      ]
     },
     "execution_count": 13,
     "metadata": {},
     "output_type": "execute_result"
    }
   ],
   "source": [
    "X_train[100]"
   ]
  },
  {
   "cell_type": "code",
   "execution_count": 15,
   "metadata": {},
   "outputs": [
    {
     "data": {
      "text/plain": [
       "(267, 50, 50, 3)"
      ]
     },
     "execution_count": 15,
     "metadata": {},
     "output_type": "execute_result"
    }
   ],
   "source": [
    "X_train.shape"
   ]
  },
  {
   "cell_type": "code",
   "execution_count": 16,
   "metadata": {},
   "outputs": [
    {
     "data": {
      "text/plain": [
       "(50, 50, 3)"
      ]
     },
     "execution_count": 16,
     "metadata": {},
     "output_type": "execute_result"
    }
   ],
   "source": [
    "X_train.shape[1:]"
   ]
  },
  {
   "cell_type": "code",
   "execution_count": 17,
   "metadata": {},
   "outputs": [
    {
     "name": "stderr",
     "output_type": "stream",
     "text": [
      "Using TensorFlow backend.\n"
     ]
    }
   ],
   "source": [
    "from keras.models import Sequential\n",
    "from keras.layers import Conv2D, MaxPooling2D\n",
    "from keras.layers import Activation, Dropout, Flatten, Dense\n",
    "from keras.utils import np_utils\n",
    "import numpy as np\n",
    "\n",
    "classes = ['monkey', 'boar', 'crow']\n",
    "num_classes = len(classes)\n",
    "image_size = 50\n",
    "\n",
    "# メインの関数を定義する\n",
    "\n",
    "\n",
    "def main():\n",
    "    X_train, X_test, y_train, y_test = np.load('./animal.npy')\n",
    "    X_train = X_train.astype(\"float\")/256\n",
    "    X_test = X_test.astype(\"float\")/256\n",
    "    y_train = np_utils.to_categorical(y_train, num_classes)\n",
    "    y_test = np_utils.to_categorical(y_test, num_classes)\n",
    "\n",
    "    model = model_train(X_train, y_train)\n",
    "    model_eval(model, X_test, y_test)\n",
    "\n",
    "\n",
    "def model_train():\n",
    "    model = Sequential()\n",
    "    model.add(Conv2D(32, (3, 3), padding='same',\n",
    "                     input_shape=X_train.shape[1:]))\n",
    "    model.add(Activation('relu'))\n",
    "    model.add(Conv2D(32, (3, 3)))\n",
    "    model.add(Activation('relu'))\n",
    "    model.add(MaxPooling2D(pool_size(2, 2)))\n",
    "    model.add(Dropout(0.25))\n",
    "\n",
    "    model.add(Conv2D(64, (3, 3), paddin='same'))\n",
    "    model.add(Activation('relu'))\n",
    "    model.add(Conv2D(64, (3, 3)))\n",
    "    model.add(Activation('relu'))\n",
    "    model.add(MaxPooling2D(pool_size(2, 2)))\n",
    "    model.add(Dropout(0.25))\n",
    "\n",
    "    model.add(Flatten())\n",
    "    model.add(Dense(512))\n",
    "    model.add(Activation('relu'))\n",
    "    model.add(Dropout(0.5))\n",
    "    model.add(Dense(3))\n",
    "    model.add(Activation('softmax'))\n",
    "\n",
    "    opt = keras.optimizers.rmsprop(lr=0.0001, decay=1e-6)\n",
    "\n",
    "    model.compile(loss='categorical_crossentropy',\n",
    "                  optimizer=opt, metrics=['accuracy'])"
   ]
  },
  {
   "cell_type": "code",
   "execution_count": 21,
   "metadata": {},
   "outputs": [
    {
     "name": "stderr",
     "output_type": "stream",
     "text": [
      "C:\\Users\\takah\\anaconda3\\envs\\tensorflow\\lib\\site-packages\\ipykernel_launcher.py:56: UserWarning: The `nb_epoch` argument in `fit` has been renamed `epochs`.\n"
     ]
    },
    {
     "name": "stdout",
     "output_type": "stream",
     "text": [
      "Epoch 1/100\n",
      "267/267 [==============================] - 5s 19ms/step - loss: 1.0879 - accuracy: 0.4944\n",
      "Epoch 2/100\n",
      "267/267 [==============================] - 4s 14ms/step - loss: 0.9975 - accuracy: 0.5431\n",
      "Epoch 3/100\n",
      "267/267 [==============================] - 4s 15ms/step - loss: 0.9862 - accuracy: 0.5281\n",
      "Epoch 4/100\n",
      "267/267 [==============================] - 4s 14ms/step - loss: 0.9836 - accuracy: 0.5356\n",
      "Epoch 5/100\n",
      "267/267 [==============================] - 4s 14ms/step - loss: 0.9387 - accuracy: 0.5468\n",
      "Epoch 6/100\n",
      "267/267 [==============================] - 4s 14ms/step - loss: 0.9383 - accuracy: 0.5618\n",
      "Epoch 7/100\n",
      "267/267 [==============================] - 4s 14ms/step - loss: 0.9399 - accuracy: 0.5356\n",
      "Epoch 8/100\n",
      "267/267 [==============================] - 4s 14ms/step - loss: 0.9183 - accuracy: 0.5805\n",
      "Epoch 9/100\n",
      "267/267 [==============================] - 4s 14ms/step - loss: 0.9039 - accuracy: 0.5655\n",
      "Epoch 10/100\n",
      "267/267 [==============================] - 4s 14ms/step - loss: 0.8655 - accuracy: 0.6067\n",
      "Epoch 11/100\n",
      "267/267 [==============================] - 4s 14ms/step - loss: 0.8536 - accuracy: 0.6067\n",
      "Epoch 12/100\n",
      "267/267 [==============================] - 4s 14ms/step - loss: 0.8455 - accuracy: 0.5880\n",
      "Epoch 13/100\n",
      "267/267 [==============================] - 4s 15ms/step - loss: 0.7852 - accuracy: 0.6292\n",
      "Epoch 14/100\n",
      "267/267 [==============================] - 4s 14ms/step - loss: 0.7946 - accuracy: 0.6442\n",
      "Epoch 15/100\n",
      "267/267 [==============================] - 4s 14ms/step - loss: 0.7973 - accuracy: 0.6255\n",
      "Epoch 16/100\n",
      "267/267 [==============================] - 4s 14ms/step - loss: 0.7835 - accuracy: 0.6554\n",
      "Epoch 17/100\n",
      "267/267 [==============================] - 4s 15ms/step - loss: 0.7312 - accuracy: 0.6779\n",
      "Epoch 18/100\n",
      "267/267 [==============================] - 4s 14ms/step - loss: 0.7090 - accuracy: 0.6929\n",
      "Epoch 19/100\n",
      "267/267 [==============================] - 4s 14ms/step - loss: 0.7189 - accuracy: 0.6816\n",
      "Epoch 20/100\n",
      "267/267 [==============================] - 4s 14ms/step - loss: 0.6702 - accuracy: 0.7004\n",
      "Epoch 21/100\n",
      "267/267 [==============================] - 4s 15ms/step - loss: 0.7160 - accuracy: 0.6816\n",
      "Epoch 22/100\n",
      "267/267 [==============================] - 4s 15ms/step - loss: 0.6465 - accuracy: 0.7453\n",
      "Epoch 23/100\n",
      "267/267 [==============================] - 4s 15ms/step - loss: 0.6356 - accuracy: 0.7228\n",
      "Epoch 24/100\n",
      "267/267 [==============================] - 4s 14ms/step - loss: 0.5759 - accuracy: 0.7191\n",
      "Epoch 25/100\n",
      "267/267 [==============================] - 4s 15ms/step - loss: 0.6541 - accuracy: 0.7154\n",
      "Epoch 26/100\n",
      "267/267 [==============================] - 4s 15ms/step - loss: 0.5879 - accuracy: 0.7378\n",
      "Epoch 27/100\n",
      "267/267 [==============================] - 4s 14ms/step - loss: 0.5360 - accuracy: 0.7678\n",
      "Epoch 28/100\n",
      "267/267 [==============================] - 4s 14ms/step - loss: 0.6018 - accuracy: 0.7191\n",
      "Epoch 29/100\n",
      "267/267 [==============================] - 4s 15ms/step - loss: 0.5233 - accuracy: 0.8015\n",
      "Epoch 30/100\n",
      "267/267 [==============================] - 4s 15ms/step - loss: 0.5097 - accuracy: 0.7903\n",
      "Epoch 31/100\n",
      "267/267 [==============================] - 4s 14ms/step - loss: 0.4991 - accuracy: 0.7978\n",
      "Epoch 32/100\n",
      "267/267 [==============================] - 4s 14ms/step - loss: 0.4683 - accuracy: 0.8090\n",
      "Epoch 33/100\n",
      "267/267 [==============================] - 4s 14ms/step - loss: 0.4742 - accuracy: 0.8202\n",
      "Epoch 34/100\n",
      "267/267 [==============================] - 4s 14ms/step - loss: 0.4480 - accuracy: 0.8127\n",
      "Epoch 35/100\n",
      "267/267 [==============================] - 4s 14ms/step - loss: 0.4405 - accuracy: 0.8202\n",
      "Epoch 36/100\n",
      "267/267 [==============================] - 4s 14ms/step - loss: 0.4803 - accuracy: 0.8090\n",
      "Epoch 37/100\n",
      "267/267 [==============================] - 4s 14ms/step - loss: 0.4196 - accuracy: 0.8427\n",
      "Epoch 38/100\n",
      "267/267 [==============================] - 4s 15ms/step - loss: 0.4255 - accuracy: 0.8427\n",
      "Epoch 39/100\n",
      "267/267 [==============================] - 4s 15ms/step - loss: 0.4171 - accuracy: 0.8202\n",
      "Epoch 40/100\n",
      "267/267 [==============================] - 4s 15ms/step - loss: 0.3913 - accuracy: 0.8614\n",
      "Epoch 41/100\n",
      "267/267 [==============================] - 4s 15ms/step - loss: 0.3641 - accuracy: 0.8577\n",
      "Epoch 42/100\n",
      "267/267 [==============================] - 4s 16ms/step - loss: 0.4034 - accuracy: 0.8202\n",
      "Epoch 43/100\n",
      "267/267 [==============================] - 4s 15ms/step - loss: 0.4058 - accuracy: 0.8502\n",
      "Epoch 44/100\n",
      "267/267 [==============================] - 4s 14ms/step - loss: 0.3438 - accuracy: 0.8727\n",
      "Epoch 45/100\n",
      "267/267 [==============================] - 4s 14ms/step - loss: 0.3458 - accuracy: 0.8914\n",
      "Epoch 46/100\n",
      "267/267 [==============================] - 4s 14ms/step - loss: 0.3149 - accuracy: 0.8951\n",
      "Epoch 47/100\n",
      "267/267 [==============================] - 4s 15ms/step - loss: 0.3404 - accuracy: 0.8689\n",
      "Epoch 48/100\n",
      "267/267 [==============================] - 4s 16ms/step - loss: 0.3172 - accuracy: 0.8951\n",
      "Epoch 49/100\n",
      "267/267 [==============================] - 4s 15ms/step - loss: 0.3045 - accuracy: 0.8951\n",
      "Epoch 50/100\n",
      "267/267 [==============================] - 4s 17ms/step - loss: 0.2847 - accuracy: 0.9026\n",
      "Epoch 51/100\n",
      "267/267 [==============================] - 4s 17ms/step - loss: 0.2690 - accuracy: 0.9064\n",
      "Epoch 52/100\n",
      "267/267 [==============================] - 4s 15ms/step - loss: 0.3150 - accuracy: 0.8764\n",
      "Epoch 53/100\n",
      "267/267 [==============================] - 4s 16ms/step - loss: 0.2500 - accuracy: 0.9176\n",
      "Epoch 54/100\n",
      "267/267 [==============================] - 4s 15ms/step - loss: 0.2849 - accuracy: 0.9064\n",
      "Epoch 55/100\n",
      "267/267 [==============================] - 4s 15ms/step - loss: 0.3056 - accuracy: 0.8989\n",
      "Epoch 56/100\n",
      "267/267 [==============================] - 4s 15ms/step - loss: 0.2555 - accuracy: 0.8989\n",
      "Epoch 57/100\n",
      "267/267 [==============================] - 4s 16ms/step - loss: 0.2347 - accuracy: 0.9176\n",
      "Epoch 58/100\n",
      "267/267 [==============================] - 4s 15ms/step - loss: 0.2961 - accuracy: 0.8764\n",
      "Epoch 59/100\n",
      "267/267 [==============================] - 4s 14ms/step - loss: 0.2352 - accuracy: 0.9213\n",
      "Epoch 60/100\n",
      "267/267 [==============================] - 4s 13ms/step - loss: 0.2183 - accuracy: 0.9139\n",
      "Epoch 61/100\n",
      "267/267 [==============================] - 4s 15ms/step - loss: 0.2276 - accuracy: 0.9288\n",
      "Epoch 62/100\n",
      "267/267 [==============================] - 4s 17ms/step - loss: 0.2052 - accuracy: 0.9251\n",
      "Epoch 63/100\n",
      "267/267 [==============================] - 5s 17ms/step - loss: 0.1920 - accuracy: 0.9513\n",
      "Epoch 64/100\n",
      "267/267 [==============================] - 4s 14ms/step - loss: 0.1728 - accuracy: 0.9363\n",
      "Epoch 65/100\n",
      "267/267 [==============================] - 4s 14ms/step - loss: 0.2666 - accuracy: 0.8839\n",
      "Epoch 66/100\n",
      "267/267 [==============================] - 4s 14ms/step - loss: 0.1908 - accuracy: 0.9401\n",
      "Epoch 67/100\n",
      "267/267 [==============================] - 4s 15ms/step - loss: 0.1930 - accuracy: 0.9476\n",
      "Epoch 68/100\n",
      "267/267 [==============================] - 4s 15ms/step - loss: 0.1948 - accuracy: 0.9513\n",
      "Epoch 69/100\n",
      "267/267 [==============================] - 4s 15ms/step - loss: 0.1698 - accuracy: 0.9401\n",
      "Epoch 70/100\n",
      "267/267 [==============================] - 4s 15ms/step - loss: 0.1364 - accuracy: 0.9625\n",
      "Epoch 71/100\n",
      "267/267 [==============================] - 4s 14ms/step - loss: 0.2233 - accuracy: 0.9251\n",
      "Epoch 72/100\n",
      "267/267 [==============================] - 4s 14ms/step - loss: 0.1289 - accuracy: 0.9625\n",
      "Epoch 73/100\n",
      "267/267 [==============================] - 3s 13ms/step - loss: 0.1859 - accuracy: 0.9288\n",
      "Epoch 74/100\n",
      "267/267 [==============================] - 2s 9ms/step - loss: 0.1429 - accuracy: 0.9663\n",
      "Epoch 75/100\n",
      "267/267 [==============================] - 2s 9ms/step - loss: 0.1094 - accuracy: 0.9738\n",
      "Epoch 76/100\n",
      "267/267 [==============================] - 2s 9ms/step - loss: 0.1755 - accuracy: 0.9401\n",
      "Epoch 77/100\n",
      "267/267 [==============================] - 2s 8ms/step - loss: 0.1189 - accuracy: 0.9738\n",
      "Epoch 78/100\n",
      "267/267 [==============================] - 2s 8ms/step - loss: 0.1384 - accuracy: 0.9551\n",
      "Epoch 79/100\n",
      "267/267 [==============================] - 2s 8ms/step - loss: 0.2110 - accuracy: 0.9251\n",
      "Epoch 80/100\n"
     ]
    },
    {
     "name": "stdout",
     "output_type": "stream",
     "text": [
      "267/267 [==============================] - 2s 8ms/step - loss: 0.1142 - accuracy: 0.9663\n",
      "Epoch 81/100\n",
      "267/267 [==============================] - 2s 8ms/step - loss: 0.1224 - accuracy: 0.9625\n",
      "Epoch 82/100\n",
      "267/267 [==============================] - 2s 9ms/step - loss: 0.1034 - accuracy: 0.9775\n",
      "Epoch 83/100\n",
      "267/267 [==============================] - 2s 8ms/step - loss: 0.1217 - accuracy: 0.9588\n",
      "Epoch 84/100\n",
      "267/267 [==============================] - 2s 8ms/step - loss: 0.0956 - accuracy: 0.9663\n",
      "Epoch 85/100\n",
      "267/267 [==============================] - 2s 8ms/step - loss: 0.1272 - accuracy: 0.9588\n",
      "Epoch 86/100\n",
      "267/267 [==============================] - 2s 8ms/step - loss: 0.0990 - accuracy: 0.9738\n",
      "Epoch 87/100\n",
      "267/267 [==============================] - 2s 8ms/step - loss: 0.0777 - accuracy: 0.9775\n",
      "Epoch 88/100\n",
      "267/267 [==============================] - 2s 8ms/step - loss: 0.1205 - accuracy: 0.9513\n",
      "Epoch 89/100\n",
      "267/267 [==============================] - 2s 9ms/step - loss: 0.0945 - accuracy: 0.9663\n",
      "Epoch 90/100\n",
      "267/267 [==============================] - 2s 9ms/step - loss: 0.0801 - accuracy: 0.9813\n",
      "Epoch 91/100\n",
      "267/267 [==============================] - 2s 8ms/step - loss: 0.0685 - accuracy: 0.9925\n",
      "Epoch 92/100\n",
      "267/267 [==============================] - 2s 8ms/step - loss: 0.1080 - accuracy: 0.9588\n",
      "Epoch 93/100\n",
      "267/267 [==============================] - 2s 8ms/step - loss: 0.0621 - accuracy: 0.9925\n",
      "Epoch 94/100\n",
      "267/267 [==============================] - 2s 8ms/step - loss: 0.0689 - accuracy: 0.9700\n",
      "Epoch 95/100\n",
      "267/267 [==============================] - 2s 8ms/step - loss: 0.0606 - accuracy: 0.9888\n",
      "Epoch 96/100\n",
      "267/267 [==============================] - 2s 9ms/step - loss: 0.1283 - accuracy: 0.9438\n",
      "Epoch 97/100\n",
      "267/267 [==============================] - 2s 8ms/step - loss: 0.0747 - accuracy: 0.9775\n",
      "Epoch 98/100\n",
      "267/267 [==============================] - 2s 9ms/step - loss: 0.0951 - accuracy: 0.9775\n",
      "Epoch 99/100\n",
      "267/267 [==============================] - 2s 8ms/step - loss: 0.0454 - accuracy: 1.0000\n",
      "Epoch 100/100\n",
      "267/267 [==============================] - 2s 8ms/step - loss: 0.0526 - accuracy: 0.9963\n",
      "90/90 [==============================] - 0s 3ms/step\n",
      "Test Loss: 0.5267959296703338\n",
      "Test Accuracy: 0.8444444537162781\n"
     ]
    }
   ],
   "source": [
    "import keras\n",
    "from keras.models import Sequential\n",
    "from keras.layers import Conv2D, MaxPooling2D\n",
    "from keras.layers import Activation, Dropout, Flatten, Dense\n",
    "from keras.utils import np_utils\n",
    "import numpy as np\n",
    "\n",
    "classes = ['monkey', 'boar', 'crow']\n",
    "num_classes = len(classes)\n",
    "image_size = 50\n",
    "\n",
    "# メインの関数を定義する\n",
    "\n",
    "\n",
    "def main():\n",
    "    X_train, X_test, y_train, y_test = np.load(\n",
    "        './animal.npy', allow_pickle=True)\n",
    "    X_train = X_train.astype(\"float\")/256\n",
    "    X_test = X_test.astype(\"float\")/256\n",
    "    y_train = np_utils.to_categorical(y_train, num_classes)\n",
    "    y_test = np_utils.to_categorical(y_test, num_classes)\n",
    "\n",
    "    model = model_train(X_train, y_train)\n",
    "    model_eval(model, X_test, y_test)\n",
    "\n",
    "\n",
    "def model_train(X, y):\n",
    "    model = Sequential()\n",
    "    model.add(Conv2D(32, (3, 3), padding='same',\n",
    "                     input_shape=X.shape[1:]))\n",
    "    model.add(Activation('relu'))\n",
    "    model.add(Conv2D(32, (3, 3)))\n",
    "    model.add(Activation('relu'))\n",
    "    model.add(MaxPooling2D(pool_size=(2, 2)))\n",
    "    model.add(Dropout(0.25))\n",
    "\n",
    "    model.add(Conv2D(64, (3, 3), padding='same'))\n",
    "    model.add(Activation('relu'))\n",
    "    model.add(Conv2D(64, (3, 3)))\n",
    "    model.add(Activation('relu'))\n",
    "    model.add(MaxPooling2D(pool_size=(2, 2)))\n",
    "    model.add(Dropout(0.25))\n",
    "\n",
    "    model.add(Flatten())\n",
    "    model.add(Dense(512))\n",
    "    model.add(Activation('relu'))\n",
    "    model.add(Dropout(0.5))\n",
    "    model.add(Dense(3))\n",
    "    model.add(Activation('softmax'))\n",
    "\n",
    "    opt = keras.optimizers.rmsprop(lr=0.0001, decay=1e-6)\n",
    "\n",
    "    model.compile(loss='categorical_crossentropy',\n",
    "                  optimizer=opt, metrics=['accuracy'])\n",
    "\n",
    "    model.fit(X, y, batch_size=32, nb_epoch=100)\n",
    "\n",
    "    # モデルの保存\n",
    "    model.save('./animal_cnn.h5')\n",
    "\n",
    "    return model\n",
    "\n",
    "\n",
    "def model_eval(model, X, y):\n",
    "    scores = model.evaluate(X, y, verbose=1)\n",
    "    print('Test Loss:', scores[0])\n",
    "    print('Test Accuracy:', scores[1])\n",
    "\n",
    "\n",
    "if __name__ == \"__main__\":\n",
    "    main()\n"
   ]
  },
  {
   "cell_type": "code",
   "execution_count": null,
   "metadata": {},
   "outputs": [],
   "source": []
  }
 ],
 "metadata": {
  "kernelspec": {
   "display_name": "Python 3",
   "language": "python",
   "name": "python3"
  },
  "language_info": {
   "codemirror_mode": {
    "name": "ipython",
    "version": 3
   },
   "file_extension": ".py",
   "mimetype": "text/x-python",
   "name": "python",
   "nbconvert_exporter": "python",
   "pygments_lexer": "ipython3",
   "version": "3.7.7"
  }
 },
 "nbformat": 4,
 "nbformat_minor": 4
}
